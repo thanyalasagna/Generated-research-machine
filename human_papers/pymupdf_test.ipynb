{
 "cells": [
  {
   "cell_type": "code",
   "execution_count": 4,
   "metadata": {},
   "outputs": [],
   "source": [
    "import pymupdf  # pymupdf is imported as fitz\n",
    "import os\n",
    "import re\n",
    "\n",
    "# Directory containing the PDFs\n",
    "pdf_folder = \"../human_papers_PDFs\"  # specify the relative path to your folder\n",
    "\n",
    "# Loop through all files in the specified folder\n",
    "for filename in os.listdir(pdf_folder):\n",
    "    if filename.endswith(\".pdf\"):\n",
    "        # Open each PDF file\n",
    "        pdf_path = os.path.join(pdf_folder, filename)\n",
    "        doc = pymupdf.open(pdf_path)\n",
    "        \n",
    "        # Initialize the text content to store text from all pages\n",
    "        text_content = \"\"\n",
    "        \n",
    "        # Extract text from each page in the document\n",
    "        for page in doc:\n",
    "            text_content += page.get_text()\n",
    "\n",
    "        # Get the first 10 words to create the filename\n",
    "        first_10_words = ' '.join(text_content.split()[:10])\n",
    "        \n",
    "        # Remove special characters from filename and limit the length\n",
    "        output_filename = re.sub(r'[^A-Za-z0-9 ]+', '', first_10_words).replace(' ', '_')\n",
    "        output_filename = f\"{output_filename[:50]}.txt\"  # limit filename length\n",
    "\n",
    "        # Save the output text to a file in the current directory\n",
    "        with open(output_filename, \"wb\") as out:\n",
    "            out.write(text_content.encode(\"utf8\"))\n"
   ]
  }
 ],
 "metadata": {
  "kernelspec": {
   "display_name": "base",
   "language": "python",
   "name": "python3"
  },
  "language_info": {
   "codemirror_mode": {
    "name": "ipython",
    "version": 3
   },
   "file_extension": ".py",
   "mimetype": "text/x-python",
   "name": "python",
   "nbconvert_exporter": "python",
   "pygments_lexer": "ipython3",
   "version": "3.12.3"
  }
 },
 "nbformat": 4,
 "nbformat_minor": 2
}
